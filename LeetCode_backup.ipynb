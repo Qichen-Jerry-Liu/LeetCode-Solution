{
 "cells": [
  {
   "cell_type": "markdown",
   "metadata": {},
   "source": [
    "# Qichen Liu's LeetCode Solutions"
   ]
  },
  {
   "cell_type": "markdown",
   "metadata": {},
   "source": [
    "## 1. Two Sum"
   ]
  },
  {
   "cell_type": "markdown",
   "metadata": {},
   "source": [
    "### One-pass Hash Map (dictionary in Python). Time complexity: O(n). Space complexity: O(n)."
   ]
  },
  {
   "cell_type": "code",
   "execution_count": null,
   "metadata": {},
   "outputs": [],
   "source": [
    "class Solution:\n",
    "    def twoSum(self, nums: List[int], target: int) -> List[int]:\n",
    "        d = {}\n",
    "        for i in range(len(nums)):\n",
    "            complement = target - nums[i]\n",
    "            if complement in d:\n",
    "                return [d[complement], i]\n",
    "            else:\n",
    "                d[nums[i]] = i"
   ]
  },
  {
   "cell_type": "markdown",
   "metadata": {},
   "source": [
    "## 2. Add Two Numbers"
   ]
  },
  {
   "cell_type": "markdown",
   "metadata": {},
   "source": [
    "### Time complexity: O(max(m,n)). Space complexity: O(max(m,n)). m and n represent the length of l1 and l2 respectively."
   ]
  },
  {
   "cell_type": "code",
   "execution_count": null,
   "metadata": {},
   "outputs": [],
   "source": [
    "# Definition for singly-linked list.\n",
    "# class ListNode:\n",
    "#     def __init__(self, val=0, next=None):\n",
    "#         self.val = val\n",
    "#         self.next = next\n",
    "class Solution:\n",
    "    def addTwoNumbers(self, l1: ListNode, l2: ListNode) -> ListNode:\n",
    "        carry = 0\n",
    "        head = n = ListNode(0)\n",
    "        while l1 or l2 or carry:\n",
    "            if l1:\n",
    "                carry += l1.val\n",
    "                l1 = l1.next\n",
    "            if l2:\n",
    "                carry += l2.val\n",
    "                l2 = l2.next\n",
    "            carry, val = divmod(carry, 10)\n",
    "            n.next = n = ListNode(val)\n",
    "        return head.next"
   ]
  },
  {
   "cell_type": "markdown",
   "metadata": {},
   "source": [
    "## 3. Longest Substring Without Repeating Characters"
   ]
  },
  {
   "cell_type": "markdown",
   "metadata": {},
   "source": [
    "### Sliding Window, using Hash Map (dictionary in Python). Time complexity: O(n). Space complexity: O(min(m,n)). m is the size of the charset."
   ]
  },
  {
   "cell_type": "code",
   "execution_count": null,
   "metadata": {},
   "outputs": [],
   "source": [
    "class Solution:\n",
    "    def lengthOfLongestSubstring(self, s: str) -> int:\n",
    "        d = {}\n",
    "        i = ans = 0\n",
    "        for j in range(len(s)):\n",
    "            if s[j] in d and i <= d[s[j]]:\n",
    "                i = d[s[j]] + 1\n",
    "            else:\n",
    "                ans = max(ans, j - i + 1)\n",
    "            d[s[j]] = j\n",
    "        return ans"
   ]
  },
  {
   "cell_type": "markdown",
   "metadata": {},
   "source": [
    "## 4. Median of Two Sorted Arrays"
   ]
  },
  {
   "cell_type": "markdown",
   "metadata": {},
   "source": [
    "### Binary Search. Time complexity: O(log(min(m,n))). Space complexity: O(1)."
   ]
  },
  {
   "cell_type": "code",
   "execution_count": null,
   "metadata": {},
   "outputs": [],
   "source": [
    "class Solution:\n",
    "    def findMedianSortedArrays(self, nums1: List[int], nums2: List[int]) -> float:\n",
    "        m, n = len(nums1), len(nums2)\n",
    "        if m > n:\n",
    "            nums1, nums2, m, n = nums2, nums1, n, m            \n",
    "        iMin, iMax, half_length = 0, m, (m + n + 1) // 2\n",
    "        while iMin <= iMax:\n",
    "            i = (iMin + iMax) // 2\n",
    "            j = half_length - i\n",
    "            if i < m and nums2[j-1] > nums1[i]:\n",
    "                iMin = i + 1\n",
    "            elif i > 0 and nums1[i-1] > nums2[j]:\n",
    "                iMax = i - 1\n",
    "            else:\n",
    "                if i == 0:\n",
    "                    max_of_left = nums2[j-1]\n",
    "                elif j == 0:\n",
    "                    max_of_left = nums1[i-1]\n",
    "                else:\n",
    "                    max_of_left = max(nums1[i-1], nums2[j-1])\n",
    "                if (m + n) % 2 == 1:\n",
    "                    return max_of_left\n",
    "                else:\n",
    "                    if i == m:\n",
    "                        min_of_right = nums2[j]\n",
    "                    elif j == n:\n",
    "                        min_of_right = nums1[i]\n",
    "                    else:\n",
    "                        min_of_right = min(nums1[i], nums2[j])\n",
    "                    return (max_of_left + min_of_right) / 2"
   ]
  },
  {
   "cell_type": "markdown",
   "metadata": {},
   "source": [
    "## 5. Longest Palindromic Substring"
   ]
  },
  {
   "cell_type": "markdown",
   "metadata": {},
   "source": [
    "### Manacher's Algorithm. Time complexity: O(n). Space complexity: O(n)."
   ]
  },
  {
   "cell_type": "code",
   "execution_count": null,
   "metadata": {},
   "outputs": [],
   "source": [
    "class Solution:\n",
    "    def longestPalindrome(self, s: str) -> str:\n",
    "        t = '$#' + '#'.join(s) + '#&'\n",
    "        p = [0 for j in range(len(t)-2)]\n",
    "        C = R = 0\n",
    "        for i in range(len(p)):\n",
    "            if i < R:\n",
    "                p[i] = min(R - i, p[2 * C - i])\n",
    "            while t[i + 2 + p[i]] == t[i - p[i]]:\n",
    "                p[i] += 1\n",
    "            if i + p[i] > R:\n",
    "                C, R = i, i + p[i]\n",
    "        max_length, center_index = max((n, i) for i, n in enumerate(p))\n",
    "        return s[(center_index - max_length) // 2: (center_index + max_length) // 2]"
   ]
  },
  {
   "cell_type": "markdown",
   "metadata": {},
   "source": [
    "## 6. ZigZag Conversion"
   ]
  },
  {
   "cell_type": "markdown",
   "metadata": {},
   "source": [
    "### Time complexity: O(n). Space complexity: O(n)."
   ]
  },
  {
   "cell_type": "code",
   "execution_count": null,
   "metadata": {},
   "outputs": [],
   "source": [
    "class Solution:\n",
    "    def convert(self, s: str, numRows: int) -> str:\n",
    "        if numRows == 1:\n",
    "            return s\n",
    "        container = ['' for i in range(numRows)]\n",
    "        index, step = 0, 1\n",
    "        for char in s:\n",
    "            container[index] += char\n",
    "            index += step\n",
    "            if index == numRows - 1:\n",
    "                step = -1\n",
    "            elif index == 0:\n",
    "                step = 1\n",
    "        return ''.join(container)"
   ]
  },
  {
   "cell_type": "markdown",
   "metadata": {},
   "source": [
    "## 7. Reverse Integer"
   ]
  },
  {
   "cell_type": "markdown",
   "metadata": {},
   "source": [
    "### Time complexity: O(n). Space complexity: O(1). n is the number of digits in x."
   ]
  },
  {
   "cell_type": "code",
   "execution_count": null,
   "metadata": {},
   "outputs": [],
   "source": [
    "class Solution:\n",
    "    def reverse(self, x: int) -> int:\n",
    "        y = 0\n",
    "        sign = (x > 0) - (x < 0)\n",
    "        x *= sign\n",
    "        while x != 0:\n",
    "            x, n = divmod(x, 10)\n",
    "            y = y * 10 + n            \n",
    "        y *= sign\n",
    "        if y < -2 ** 31 or y > 2 ** 31 - 1:\n",
    "            return 0\n",
    "        else:\n",
    "            return y"
   ]
  },
  {
   "cell_type": "markdown",
   "metadata": {},
   "source": [
    "## 8. String to Integer (atoi)"
   ]
  },
  {
   "cell_type": "markdown",
   "metadata": {},
   "source": [
    "### Time complexity: O(n). Space complexity: O(1)."
   ]
  },
  {
   "cell_type": "code",
   "execution_count": null,
   "metadata": {},
   "outputs": [],
   "source": [
    "class Solution:\n",
    "    def myAtoi(self, s: str) -> int:\n",
    "        s = s.strip()\n",
    "        if len(s) == 0:\n",
    "            return 0\n",
    "        if s[0] in '+-':\n",
    "            sign = 1 if s[0] == '+' else -1\n",
    "            s = s[1:]\n",
    "        else:\n",
    "            sign = 1\n",
    "        n = 0\n",
    "        for char in s:\n",
    "            if char.isdigit():\n",
    "                n = n * 10 + int(char)                    \n",
    "            else:\n",
    "                break\n",
    "        return max(-2 ** 31, min(n * sign, 2 ** 31 - 1))"
   ]
  },
  {
   "cell_type": "markdown",
   "metadata": {},
   "source": [
    "## 9. Palindrome Number"
   ]
  },
  {
   "cell_type": "markdown",
   "metadata": {},
   "source": [
    "### Revert half of the number. Time complexity: O(log(n)). Space complexity: O(1)."
   ]
  },
  {
   "cell_type": "code",
   "execution_count": null,
   "metadata": {},
   "outputs": [],
   "source": [
    "class Solution:\n",
    "    def isPalindrome(self, x: int) -> bool:\n",
    "        if x < 0 or (x % 10 == 0 and x != 0):\n",
    "            return False\n",
    "        reverted_num = 0\n",
    "        while x > reverted_num:\n",
    "            reverted_num = reverted_num * 10 + x % 10\n",
    "            x //= 10\n",
    "        return x == reverted_num or x == reverted_num // 10"
   ]
  },
  {
   "cell_type": "markdown",
   "metadata": {},
   "source": [
    "## 78. Subsets"
   ]
  },
  {
   "cell_type": "markdown",
   "metadata": {},
   "source": [
    "### Backtracking. Time complexity: O(n*2^n). Space complexity: O(n)."
   ]
  },
  {
   "cell_type": "code",
   "execution_count": null,
   "metadata": {},
   "outputs": [],
   "source": [
    "class Solution:\n",
    "    def subsets(self, nums: List[int]) -> List[List[int]]:\n",
    "        def backtrack(start, cur_list):\n",
    "            ans.append(cur_list[:])            \n",
    "            for i in range(start, n):\n",
    "                cur_list.append(nums[i])\n",
    "                backtrack(i+1, cur_list)\n",
    "                cur_list.pop()\n",
    "        \n",
    "        n = len(nums)\n",
    "        ans = []\n",
    "        backtrack(0, [])\n",
    "        return ans"
   ]
  },
  {
   "cell_type": "markdown",
   "metadata": {},
   "source": [
    "## 90. Subsets II"
   ]
  },
  {
   "cell_type": "code",
   "execution_count": null,
   "metadata": {},
   "outputs": [],
   "source": [
    "class Solution:\n",
    "    def subsetsWithDup(self, nums: List[int]) -> List[List[int]]:\n",
    "        def backtrack(start, cur_list):\n",
    "            if cur_list not in ans:\n",
    "                ans.append(cur_list[:])            \n",
    "            for i in range(start, n):\n",
    "                cur_list.append(nums[i])\n",
    "                backtrack(i+1, cur_list)\n",
    "                cur_list.pop()\n",
    "        \n",
    "        n = len(nums)\n",
    "        nums = sorted(nums)\n",
    "        ans = []\n",
    "        backtrack(0, [])\n",
    "        return ans"
   ]
  },
  {
   "cell_type": "code",
   "execution_count": null,
   "metadata": {},
   "outputs": [],
   "source": []
  }
 ],
 "metadata": {
  "kernelspec": {
   "display_name": "Python 3",
   "language": "python",
   "name": "python3"
  },
  "language_info": {
   "codemirror_mode": {
    "name": "ipython",
    "version": 3
   },
   "file_extension": ".py",
   "mimetype": "text/x-python",
   "name": "python",
   "nbconvert_exporter": "python",
   "pygments_lexer": "ipython3",
   "version": "3.8.3"
  }
 },
 "nbformat": 4,
 "nbformat_minor": 4
}
